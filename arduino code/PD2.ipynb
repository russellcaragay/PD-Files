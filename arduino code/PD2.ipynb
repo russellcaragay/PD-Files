{
 "cells": [
  {
   "cell_type": "code",
   "execution_count": 50,
   "id": "cba2fba7",
   "metadata": {},
   "outputs": [],
   "source": [
    "import time\n",
    "import serial\n",
    "\n",
    "serialcomm = serial.Serial(\"COM3\", 9600)\n",
    "time.sleep(2)\n",
    "\n",
    "#Accident Occured\n",
    "def accident(message):\n",
    "    print(\"Accident Detected!\")\n",
    "    serialcomm.write(message.encode())\n",
    "    #serialcomm.close()\n",
    "    \n",
    "#Reset\n",
    "def reset():\n",
    "    print(\"Resetting the device...\")\n",
    "    serialcomm.write(b\"0\")\n",
    "    #serialcomm.open()"
   ]
  },
  {
   "cell_type": "code",
   "execution_count": 42,
   "id": "c7692197",
   "metadata": {},
   "outputs": [
    {
     "name": "stdout",
     "output_type": "stream",
     "text": [
      "Accident Detected!\n"
     ]
    }
   ],
   "source": [
    "message = \"19218270084960516418812:00AM1234567890123456789012345678901.\" #accident 1\n",
    "message += \"29218270084921827008412:00AM1234567890123456789012345678901.\" #accident 2\n",
    "message += \"39218270084921827008412:00AM1234567890123456789012345678901.\" #accident 3\n",
    "\n",
    "accident(message)"
   ]
  },
  {
   "cell_type": "code",
   "execution_count": 51,
   "id": "c7f00b94",
   "metadata": {},
   "outputs": [
    {
     "name": "stdout",
     "output_type": "stream",
     "text": [
      "Resetting the device...\n"
     ]
    }
   ],
   "source": [
    "reset()"
   ]
  },
  {
   "cell_type": "code",
   "execution_count": 44,
   "id": "db794a8b",
   "metadata": {},
   "outputs": [
    {
     "name": "stdout",
     "output_type": "stream",
     "text": [
      "Accident Detected!\n",
      "Accident Detected!\n",
      "Accident Detected!\n"
     ]
    }
   ],
   "source": [
    "message = \"19218270084960516418812:00AM1234567890123456789012345678901.\" #accident 1\n",
    "accident(message)\n",
    "\n",
    "message = \"29218270084960516418812:00AM1234567890123456789012345678901.\" #accident 2\n",
    "accident(message)\n",
    "\n",
    "message = \"39218270084921827008412:00AM1234567890123456789012345678901.\" #accident 3\n",
    "accident(message)\n"
   ]
  },
  {
   "cell_type": "code",
   "execution_count": null,
   "id": "4f5e84ab",
   "metadata": {},
   "outputs": [],
   "source": []
  }
 ],
 "metadata": {
  "kernelspec": {
   "display_name": "Python 3 (ipykernel)",
   "language": "python",
   "name": "python3"
  },
  "language_info": {
   "codemirror_mode": {
    "name": "ipython",
    "version": 3
   },
   "file_extension": ".py",
   "mimetype": "text/x-python",
   "name": "python",
   "nbconvert_exporter": "python",
   "pygments_lexer": "ipython3",
   "version": "3.9.13"
  }
 },
 "nbformat": 4,
 "nbformat_minor": 5
}
